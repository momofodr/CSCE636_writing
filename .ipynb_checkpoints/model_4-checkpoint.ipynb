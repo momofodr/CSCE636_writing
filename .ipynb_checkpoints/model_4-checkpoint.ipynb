{
 "cells": [
  {
   "cell_type": "code",
   "execution_count": 1,
   "metadata": {},
   "outputs": [],
   "source": [
    "import cv2\n",
    "import os\n",
    "import random\n",
    "import numpy as np\n",
    "from PIL import Image  \n",
    "\n",
    "video_list = []\n",
    "video_label = []\n",
    "train_list = []\n",
    "train_label = []\n",
    "val_list = []\n",
    "val_label = []\n",
    "\n",
    "#generate label list\n",
    "for root, dirs, files in os.walk('train_writing'):\n",
    "    for file in files:\n",
    "        if '.jpg' in file:\n",
    "            video_list.append(os.path.join(root, file))\n",
    "            video_label.append(1)\n",
    "for root, dirs, files in os.walk('training_nowriting'):\n",
    "    for file in files:\n",
    "        if '.jpg' in file:\n",
    "            video_list.append(os.path.join(root, file))\n",
    "            video_label.append(0)\n",
    "\n",
    "#random shuffle the video list          \n",
    "c= list(zip(video_list,video_label))\n",
    "random.shuffle(c)\n",
    "video_list,video_label = zip(*c)\n",
    "\n",
    "#Separate the training set and the validation set\n",
    "train_list = video_list[:int(len(video_list)*0.8)]\n",
    "train_label = video_label[:int(len(video_list)*0.8)]\n",
    "val_list = video_list[int(len(video_list)*0.8):]\n",
    "val_label = video_label[int(len(video_list)*0.8):]\n",
    "\n",
    "# im = Image.open(pic_list[1])\n",
    "# im_data = np.array(im)\n",
    "# im.show()\n",
    "# im1 = im.resize((360,360))\n",
    "# im1.show()\n",
    "# print(cv2.imread(pic_list[1]).shape)\n",
    "# print(cv2.imread(pic_list[20]).shape)\n",
    "# print(cv2.imread(pic_list[50]).shape)\n",
    "# print(cv2.imread(pic_list[100]).shape)\n",
    "# print(cv2.imread(pic_list[len(pic_list)-1]).shape)"
   ]
  },
  {
   "cell_type": "code",
   "execution_count": 2,
   "metadata": {},
   "outputs": [],
   "source": [
    "im = Image.open(video_list[1])\n",
    "# im_data = np.array(im)\n",
    "# im.show()\n",
    "im1 = im.resize((56,56))\n",
    "im1.show()\n",
    "# print(cv2.imread(pic_list[1]).shape)\n",
    "# print(cv2.imread(pic_list[20]).shape)\n",
    "# print(cv2.imread(pic_list[50]).shape)\n",
    "# print(cv2.imread(pic_list[100]).shape)\n",
    "# print(cv2.imread(pic_list[len(pic_list)-1]).shape)"
   ]
  },
  {
   "cell_type": "code",
   "execution_count": 3,
   "metadata": {},
   "outputs": [],
   "source": [
    "x_train = np.array([np.array(Image.open(im_dir).resize((128,128))) for im_dir in train_list])\n",
    "y_train = np.array(train_label)\n",
    "x_val = np.array([np.array(Image.open(im_dir).resize((128,128))) for im_dir in val_list])\n",
    "y_val = np.array(val_label)"
   ]
  },
  {
   "cell_type": "code",
   "execution_count": 4,
   "metadata": {},
   "outputs": [
    {
     "name": "stdout",
     "output_type": "stream",
     "text": [
      "1315\n",
      "1315\n",
      "329\n",
      "329\n",
      "0.7998783454987834\n"
     ]
    }
   ],
   "source": [
    "print(len(train_list))\n",
    "print(len(train_label))\n",
    "print(len(val_list))\n",
    "print(len(val_label))\n",
    "print(len(train_label)/(len(train_label)+len(val_label)))"
   ]
  },
  {
   "cell_type": "code",
   "execution_count": 5,
   "metadata": {},
   "outputs": [
    {
     "data": {
      "text/plain": [
       "(128, 128, 3)"
      ]
     },
     "execution_count": 5,
     "metadata": {},
     "output_type": "execute_result"
    }
   ],
   "source": [
    "im = Image.open(video_list[1])\n",
    "im1 = im.resize((128,128))\n",
    "# im.show()\n",
    "np.array(im1).shape"
   ]
  },
  {
   "cell_type": "code",
   "execution_count": 12,
   "metadata": {},
   "outputs": [
    {
     "name": "stderr",
     "output_type": "stream",
     "text": [
      "//anaconda3/lib/python3.7/site-packages/ipykernel_launcher.py:16: UserWarning: Update your `Conv2D` call to the Keras 2 API: `Conv2D(32, (5, 5), input_shape=(128, 128,..., data_format=\"channels_last\", activation=\"relu\", padding=\"same\")`\n",
      "  app.launch_new_instance()\n",
      "//anaconda3/lib/python3.7/site-packages/ipykernel_launcher.py:17: UserWarning: Update your `Conv2D` call to the Keras 2 API: `Conv2D(32, (5, 5), activation=\"relu\", padding=\"same\")`\n",
      "//anaconda3/lib/python3.7/site-packages/ipykernel_launcher.py:20: UserWarning: Update your `Conv2D` call to the Keras 2 API: `Conv2D(64, (5, 5), activation=\"relu\", padding=\"same\")`\n",
      "//anaconda3/lib/python3.7/site-packages/ipykernel_launcher.py:23: UserWarning: Update your `Conv2D` call to the Keras 2 API: `Conv2D(64, (5, 5), activation=\"relu\", padding=\"same\")`\n",
      "//anaconda3/lib/python3.7/site-packages/ipykernel_launcher.py:26: UserWarning: Update your `Conv2D` call to the Keras 2 API: `Conv2D(256, (5, 5), activation=\"relu\", padding=\"same\")`\n"
     ]
    }
   ],
   "source": [
    "from keras import layers\n",
    "from keras import optimizers\n",
    "from keras import losses\n",
    "from keras import metrics\n",
    "from keras.layers import Conv2D\n",
    "from keras.layers import MaxPooling2D\n",
    "from keras.layers import Flatten\n",
    "from keras.layers import Dense\n",
    "import numpy as np\n",
    "from keras.models import Sequential\n",
    "from keras.layers import Dropout\n",
    "from keras.callbacks import ModelCheckpoint\n",
    "\n",
    "model = Sequential()\n",
    "\n",
    "model.add(Conv2D(32, (5, 5), border_mode='same', input_shape=(128,128,3),data_format=\"channels_last\", activation='relu'))\n",
    "model.add(Conv2D(32, (5, 5), border_mode='same', activation='relu'))\n",
    "model.add(MaxPooling2D(pool_size=(2, 2)))\n",
    "\n",
    "model.add(Conv2D(64, (5, 5), border_mode='same', activation='relu'))\n",
    "model.add(MaxPooling2D(pool_size=(2, 2)))\n",
    "\n",
    "model.add(Conv2D(64, (5, 5), border_mode='same', activation='relu'))\n",
    "model.add(MaxPooling2D(pool_size=(2, 2)))\n",
    "\n",
    "model.add(Conv2D(256, (5, 5), border_mode='same', activation='relu'))\n",
    "\n",
    "model.add(MaxPooling2D(pool_size=(2, 2)))\n",
    "\n",
    "model.add(Flatten())\n",
    "model.add(Dense(256, activation='relu'))\n",
    "\n",
    "model.add(Dense(32, activation='relu'))\n",
    "model.add(Dropout(0.5))\n",
    "\n",
    "model.add(Dense(1,activation='sigmoid'))\n",
    "    \n",
    "model.compile(loss=losses.binary_crossentropy,\n",
    "            optimizer=optimizers.RMSprop(lr=0.0001),\n",
    "            metrics=[metrics.binary_accuracy])\n",
    "\n",
    "filepath=\"model_{epoch:02d}-{val_loss:.2f}.hdf5\"\n",
    "\n",
    "checkpoint = ModelCheckpoint(filepath, verbose=1, \n",
    "                            save_best_only=True)"
   ]
  },
  {
   "cell_type": "code",
   "execution_count": 13,
   "metadata": {},
   "outputs": [
    {
     "name": "stdout",
     "output_type": "stream",
     "text": [
      "Train on 2124 samples, validate on 532 samples\n",
      "Epoch 1/20\n",
      "2124/2124 [==============================] - 97s 45ms/step - loss: 2.8560 - binary_accuracy: 0.5664 - val_loss: 0.6715 - val_binary_accuracy: 0.6898\n",
      "\n",
      "Epoch 00001: val_loss improved from inf to 0.67151, saving model to model_01-0.67.hdf5\n",
      "Epoch 2/20\n",
      "2124/2124 [==============================] - 96s 45ms/step - loss: 0.6302 - binary_accuracy: 0.6869 - val_loss: 0.6559 - val_binary_accuracy: 0.6898\n",
      "\n",
      "Epoch 00002: val_loss improved from 0.67151 to 0.65592, saving model to model_02-0.66.hdf5\n",
      "Epoch 3/20\n",
      "2124/2124 [==============================] - 95s 45ms/step - loss: 0.6312 - binary_accuracy: 0.6747 - val_loss: 0.5998 - val_binary_accuracy: 0.6974\n",
      "\n",
      "Epoch 00003: val_loss improved from 0.65592 to 0.59979, saving model to model_03-0.60.hdf5\n",
      "Epoch 4/20\n",
      "2124/2124 [==============================] - 95s 45ms/step - loss: 0.6012 - binary_accuracy: 0.6869 - val_loss: 0.8318 - val_binary_accuracy: 0.3383\n",
      "\n",
      "Epoch 00004: val_loss did not improve from 0.59979\n",
      "Epoch 5/20\n",
      "2124/2124 [==============================] - 95s 45ms/step - loss: 0.6722 - binary_accuracy: 0.6747 - val_loss: 0.6016 - val_binary_accuracy: 0.6898\n",
      "\n",
      "Epoch 00005: val_loss did not improve from 0.59979\n",
      "Epoch 6/20\n",
      "2124/2124 [==============================] - 95s 45ms/step - loss: 0.5891 - binary_accuracy: 0.7147 - val_loss: 0.6155 - val_binary_accuracy: 0.7613\n",
      "\n",
      "Epoch 00006: val_loss did not improve from 0.59979\n",
      "Epoch 7/20\n",
      "2124/2124 [==============================] - 97s 45ms/step - loss: 0.5956 - binary_accuracy: 0.7170 - val_loss: 0.6040 - val_binary_accuracy: 0.6898\n",
      "\n",
      "Epoch 00007: val_loss did not improve from 0.59979\n",
      "Epoch 8/20\n",
      "2124/2124 [==============================] - 96s 45ms/step - loss: 0.5713 - binary_accuracy: 0.7335 - val_loss: 0.6385 - val_binary_accuracy: 0.7105\n",
      "\n",
      "Epoch 00008: val_loss did not improve from 0.59979\n",
      "Epoch 9/20\n",
      "2124/2124 [==============================] - 95s 45ms/step - loss: 0.6052 - binary_accuracy: 0.6897 - val_loss: 0.5461 - val_binary_accuracy: 0.6992\n",
      "\n",
      "Epoch 00009: val_loss improved from 0.59979 to 0.54611, saving model to model_09-0.55.hdf5\n",
      "Epoch 10/20\n",
      "2124/2124 [==============================] - 97s 46ms/step - loss: 0.5974 - binary_accuracy: 0.6813 - val_loss: 0.5834 - val_binary_accuracy: 0.6917\n",
      "\n",
      "Epoch 00010: val_loss did not improve from 0.54611\n",
      "Epoch 11/20\n",
      "2124/2124 [==============================] - 96s 45ms/step - loss: 0.5620 - binary_accuracy: 0.7274 - val_loss: 0.5470 - val_binary_accuracy: 0.7030\n",
      "\n",
      "Epoch 00011: val_loss did not improve from 0.54611\n",
      "Epoch 12/20\n",
      "2124/2124 [==============================] - 96s 45ms/step - loss: 0.6189 - binary_accuracy: 0.7006 - val_loss: 0.5496 - val_binary_accuracy: 0.7068\n",
      "\n",
      "Epoch 00012: val_loss did not improve from 0.54611\n",
      "Epoch 13/20\n",
      "2124/2124 [==============================] - 99s 46ms/step - loss: 0.5198 - binary_accuracy: 0.7448 - val_loss: 0.5238 - val_binary_accuracy: 0.7632\n",
      "\n",
      "Epoch 00013: val_loss improved from 0.54611 to 0.52380, saving model to model_13-0.52.hdf5\n",
      "Epoch 14/20\n",
      "2124/2124 [==============================] - 96s 45ms/step - loss: 0.5164 - binary_accuracy: 0.7552 - val_loss: 1.0067 - val_binary_accuracy: 0.6898\n",
      "\n",
      "Epoch 00014: val_loss did not improve from 0.52380\n",
      "Epoch 15/20\n",
      "2124/2124 [==============================] - 96s 45ms/step - loss: 0.5308 - binary_accuracy: 0.7943 - val_loss: 0.5845 - val_binary_accuracy: 0.7180\n",
      "\n",
      "Epoch 00015: val_loss did not improve from 0.52380\n",
      "Epoch 16/20\n",
      "2124/2124 [==============================] - 96s 45ms/step - loss: 0.5145 - binary_accuracy: 0.7622 - val_loss: 0.4767 - val_binary_accuracy: 0.7951\n",
      "\n",
      "Epoch 00016: val_loss improved from 0.52380 to 0.47667, saving model to model_16-0.48.hdf5\n",
      "Epoch 17/20\n",
      "2124/2124 [==============================] - 99s 47ms/step - loss: 0.4975 - binary_accuracy: 0.7820 - val_loss: 0.4379 - val_binary_accuracy: 0.8139\n",
      "\n",
      "Epoch 00017: val_loss improved from 0.47667 to 0.43791, saving model to model_17-0.44.hdf5\n",
      "Epoch 18/20\n",
      "2124/2124 [==============================] - 103s 49ms/step - loss: 0.4216 - binary_accuracy: 0.8136 - val_loss: 0.4756 - val_binary_accuracy: 0.8177\n",
      "\n",
      "Epoch 00018: val_loss did not improve from 0.43791\n",
      "Epoch 19/20\n",
      "2124/2124 [==============================] - 104s 49ms/step - loss: 0.4191 - binary_accuracy: 0.8277 - val_loss: 0.4117 - val_binary_accuracy: 0.8534\n",
      "\n",
      "Epoch 00019: val_loss improved from 0.43791 to 0.41173, saving model to model_19-0.41.hdf5\n",
      "Epoch 20/20\n",
      "2124/2124 [==============================] - 105s 49ms/step - loss: 0.3554 - binary_accuracy: 0.8611 - val_loss: 0.5379 - val_binary_accuracy: 0.7406\n",
      "\n",
      "Epoch 00020: val_loss did not improve from 0.41173\n"
     ]
    }
   ],
   "source": [
    "#Fit the model\n",
    "history = model.fit(x_train, y_train, validation_data=(x_val, y_val), epochs=20, batch_size=256,callbacks=[checkpoint])\n",
    "# evaluate the model"
   ]
  },
  {
   "cell_type": "code",
   "execution_count": 21,
   "metadata": {},
   "outputs": [
    {
     "data": {
      "image/png": "[encoded data removed]",
      "text/plain": [
       "<Figure size 432x288 with 1 Axes>"
      ]
     },
     "metadata": {
      "needs_background": "light"
     },
     "output_type": "display_data"
    }
   ],
   "source": [
    "import matplotlib.pyplot as plt\n",
    "#Visualize the models accuracy\n",
    "plt.plot(history.history['binary_accuracy'])\n",
    "plt.plot(history.history['val_binary_accuracy'])\n",
    "plt.title('Model accuracy')\n",
    "plt.ylabel('Accuracy')\n",
    "plt.xlabel('Epoch')\n",
    "plt.legend(['Train', 'Val'], loc='upper left')\n",
    "plt.show()"
   ]
  },
  {
   "cell_type": "code",
   "execution_count": 11,
   "metadata": {},
   "outputs": [
    {
     "data": {
      "image/png": "[encoded data removed]",
      "text/plain": [
       "<Figure size 432x288 with 1 Axes>"
      ]
     },
     "metadata": {
      "needs_background": "light"
     },
     "output_type": "display_data"
    }
   ],
   "source": [
    "import matplotlib.pyplot as plt\n",
    "#Visualize the models accuracy\n",
    "plt.plot(history.history['loss'])\n",
    "plt.plot(history.history['val_loss'])\n",
    "plt.title('Model loss')\n",
    "plt.ylabel('Loss')\n",
    "plt.xlabel('Epoch')\n",
    "plt.legend(['Train', 'Val'], loc='upper left')\n",
    "plt.show()"
   ]
  },
  {
   "cell_type": "code",
   "execution_count": 17,
   "metadata": {},
   "outputs": [],
   "source": [
    "test_list = []\n",
    "test_label = []\n",
    "\n",
    "#generate label list\n",
    "for root, dirs, files in os.walk('test_writing'):\n",
    "    for file in files:\n",
    "        if '.jpg' in file:\n",
    "            test_list.append(os.path.join(root, file))\n",
    "            test_label.append(1)\n",
    "for root, dirs, files in os.walk('test_nowriting'):\n",
    "    for file in files:\n",
    "        if '.jpg' in file:\n",
    "            test_list.append(os.path.join(root, file))\n",
    "            test_label.append(0)\n",
    "\n",
    "#random shuffle the video list          \n",
    "c= list(zip(test_list,test_label))\n",
    "random.shuffle(c)\n",
    "test_list,test_label = zip(*c)\n",
    "\n",
    "x_test = np.array([np.array(Image.open(im_dir).resize((128,128))) for im_dir in test_list])\n",
    "y_test = np.array(test_label)"
   ]
  },
  {
   "cell_type": "code",
   "execution_count": 18,
   "metadata": {},
   "outputs": [
    {
     "name": "stdout",
     "output_type": "stream",
     "text": [
      "675/675 [==============================] - 8s 12ms/step\n"
     ]
    }
   ],
   "source": [
    "results=model.evaluate(x_test,y_test)"
   ]
  },
  {
   "cell_type": "code",
   "execution_count": 19,
   "metadata": {},
   "outputs": [
    {
     "data": {
      "text/plain": [
       "[0.8668702024000662, 0.6088888645172119]"
      ]
     },
     "execution_count": 19,
     "metadata": {},
     "output_type": "execute_result"
    }
   ],
   "source": [
    "results"
   ]
  },
  {
   "cell_type": "code",
   "execution_count": 26,
   "metadata": {},
   "outputs": [],
   "source": [
    "sample_1=[]\n",
    "for root, dirs, files in os.walk('sample_frame1'):\n",
    "    for file in files:\n",
    "        if '.jpg' in file:\n",
    "            sample_1.append(os.path.join(root, file))\n",
    "sample_1_test = np.array([np.array(Image.open(im_dir).resize((128,128))) for im_dir in sample_1])"
   ]
  },
  {
   "cell_type": "code",
   "execution_count": 35,
   "metadata": {},
   "outputs": [
    {
     "data": {
      "text/plain": [
       "<Figure size 432x288 with 0 Axes>"
      ]
     },
     "metadata": {},
     "output_type": "display_data"
    }
   ],
   "source": [
    "# for i in range(5):\n",
    "import matplotlib.pyplot as plt\n",
    "import jsonlines\n",
    "prob = model.predict(sample_1_test)\n",
    "pred = [int(p>0.5) for p in prob]\n",
    "time = np.arange(15200,16000,5)/10\n",
    "js = \"\"\n",
    "for i, p in enumerate(prob):\n",
    "    js += \"({},{}) \".format(time[i], p)\n",
    "with jsonlines.open(\"sample_1_test.jsonl\",mode='w') as writer:\n",
    "    writer.write(js)\n",
    "plt.plot(time, pred)\n",
    "plt.xlabel('time (s)')\n",
    "plt.ylabel('prediction')\n",
    "plt.savefig(\"sample_1_test.jpg\")\n",
    "plt.clf()"
   ]
  },
  {
   "cell_type": "code",
   "execution_count": 47,
   "metadata": {},
   "outputs": [
    {
     "data": {
      "text/plain": [
       "<Figure size 432x288 with 0 Axes>"
      ]
     },
     "metadata": {},
     "output_type": "display_data"
    }
   ],
   "source": [
    "sample=[]\n",
    "j = 5\n",
    "time = np.arange(11000,12000,5)/10\n",
    "for root, dirs, files in os.walk(\"sample_frame{}\".format(j)):\n",
    "    for file in files:\n",
    "        if '.jpg' in file:\n",
    "            sample.append(os.path.join(root, file))\n",
    "sample_test = np.array([np.array(Image.open(im_dir).resize((128,128))) for im_dir in sample])\n",
    "prob = model.predict(sample_test)\n",
    "pred = [int(p>0.5) for p in prob]\n",
    "js = \"\"\n",
    "for i, p in enumerate(prob):\n",
    "    js += \"({},{}) \".format(time[i], p)\n",
    "with jsonlines.open(\"sample_{}_test.jsonl\".format(j),mode='w') as writer:\n",
    "    writer.write(js)\n",
    "plt.plot(time, pred)\n",
    "plt.xlabel('time (s)')\n",
    "plt.ylabel('prediction')\n",
    "plt.savefig(\"sample_{}_test.jpg\".format(j))\n",
    "plt.clf()"
   ]
  },
  {
   "cell_type": "code",
   "execution_count": 48,
   "metadata": {},
   "outputs": [],
   "source": [
    "model.load_weights('model_19-0.41.hdf5')"
   ]
  },
  {
   "cell_type": "code",
   "execution_count": null,
   "metadata": {},
   "outputs": [],
   "source": [
    "import matplotlib.pyplot as plt\n",
    "#Visualize the models accuracy\n",
    "plt.plot(history.history['loss'])\n",
    "plt.plot(history.history['val_loss'])\n",
    "plt.title('Model loss')\n",
    "plt.ylabel('Loss')\n",
    "plt.xlabel('Epoch')\n",
    "plt.legend(['Train', 'Val'], loc='upper left')\n",
    "plt.show()"
   ]
  }
 ],
 "metadata": {
  "kernelspec": {
   "display_name": "Python 3",
   "language": "python",
   "name": "python3"
  },
  "language_info": {
   "codemirror_mode": {
    "name": "ipython",
    "version": 3
   },
   "file_extension": ".py",
   "mimetype": "text/x-python",
   "name": "python",
   "nbconvert_exporter": "python",
   "pygments_lexer": "ipython3",
   "version": "3.7.3"
  }
 },
 "nbformat": 4,
 "nbformat_minor": 2
}
