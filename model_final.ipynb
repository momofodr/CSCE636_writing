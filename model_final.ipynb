{
 "cells": [
  {
   "cell_type": "code",
   "execution_count": 32,
   "metadata": {},
   "outputs": [
    {
     "name": "stderr",
     "output_type": "stream",
     "text": [
      "//anaconda3/lib/python3.7/site-packages/ipykernel_launcher.py:17: UserWarning: Update your `Conv2D` call to the Keras 2 API: `Conv2D(32, (5, 5), input_shape=(128, 128,..., data_format=\"channels_last\", activation=\"relu\", padding=\"same\")`\n",
      "//anaconda3/lib/python3.7/site-packages/ipykernel_launcher.py:18: UserWarning: Update your `Conv2D` call to the Keras 2 API: `Conv2D(32, (5, 5), activation=\"relu\", padding=\"same\")`\n",
      "//anaconda3/lib/python3.7/site-packages/ipykernel_launcher.py:21: UserWarning: Update your `Conv2D` call to the Keras 2 API: `Conv2D(64, (5, 5), activation=\"relu\", padding=\"same\")`\n",
      "//anaconda3/lib/python3.7/site-packages/ipykernel_launcher.py:24: UserWarning: Update your `Conv2D` call to the Keras 2 API: `Conv2D(64, (5, 5), activation=\"relu\", padding=\"same\")`\n",
      "//anaconda3/lib/python3.7/site-packages/ipykernel_launcher.py:27: UserWarning: Update your `Conv2D` call to the Keras 2 API: `Conv2D(256, (5, 5), activation=\"relu\", padding=\"same\")`\n"
     ]
    }
   ],
   "source": [
    "from keras import models\n",
    "from keras import layers\n",
    "from keras import optimizers\n",
    "from keras import losses\n",
    "from keras import metrics\n",
    "from keras.layers import Conv2D\n",
    "from keras.layers import MaxPooling2D\n",
    "from keras.layers import Flatten\n",
    "from keras.layers import Dense\n",
    "import numpy as np\n",
    "from keras.models import Sequential\n",
    "from keras.layers import Dropout\n",
    "from keras.callbacks import ModelCheckpoint\n",
    "\n",
    "model = Sequential()\n",
    "\n",
    "model.add(Conv2D(32, (5, 5), border_mode='same', input_shape=(128,128,3),data_format=\"channels_last\", activation='relu'))\n",
    "model.add(Conv2D(32, (5, 5), border_mode='same', activation='relu'))\n",
    "model.add(MaxPooling2D(pool_size=(2, 2)))\n",
    "\n",
    "model.add(Conv2D(64, (5, 5), border_mode='same', activation='relu'))\n",
    "model.add(MaxPooling2D(pool_size=(2, 2)))\n",
    "\n",
    "model.add(Conv2D(64, (5, 5), border_mode='same', activation='relu'))\n",
    "model.add(MaxPooling2D(pool_size=(2, 2)))\n",
    "\n",
    "model.add(Conv2D(256, (5, 5), border_mode='same', activation='relu'))\n",
    "\n",
    "model.add(MaxPooling2D(pool_size=(2, 2)))\n",
    "\n",
    "model.add(Flatten())\n",
    "model.add(Dense(256, activation='relu'))\n",
    "\n",
    "model.add(Dense(32, activation='relu'))\n",
    "model.add(Dropout(0.5))\n",
    "\n",
    "model.add(Dense(1,activation='sigmoid'))\n",
    "    \n",
    "model.compile(loss=losses.binary_crossentropy,\n",
    "            optimizer=optimizers.RMSprop(lr=0.0001),\n",
    "            metrics=[metrics.binary_accuracy])\n",
    "\n",
    "filepath=\"model_{epoch:02d}-{val_loss:.2f}.hdf5\"\n",
    "\n",
    "checkpoint = ModelCheckpoint(filepath, verbose=1, \n",
    "                            save_best_only=True)\n",
    "model.load_weights('model_19-0.41.hdf5')"
   ]
  },
  {
   "cell_type": "code",
   "execution_count": 33,
   "metadata": {},
   "outputs": [],
   "source": [
    "import os\n",
    "import random\n",
    "import numpy as np\n",
    "from PIL import Image\n",
    "test_list = []\n",
    "test_label = []\n",
    "\n",
    "#generate label list\n",
    "for root, dirs, files in os.walk('test_writing'):\n",
    "    for file in files:\n",
    "        if '.jpg' in file:\n",
    "            test_list.append(os.path.join(root, file))\n",
    "            test_label.append(1)\n",
    "for root, dirs, files in os.walk('test_nowriting'):\n",
    "    for file in files:\n",
    "        if '.jpg' in file:\n",
    "            test_list.append(os.path.join(root, file))\n",
    "            test_label.append(0)\n",
    "\n",
    "#random shuffle the video list          \n",
    "c= list(zip(test_list,test_label))\n",
    "random.shuffle(c)\n",
    "test_list,test_label = zip(*c)\n",
    "\n",
    "x_test = np.array([np.array(Image.open(im_dir).resize((128,128))) for im_dir in test_list])\n",
    "y_test = np.array(test_label)"
   ]
  },
  {
   "cell_type": "code",
   "execution_count": 34,
   "metadata": {},
   "outputs": [
    {
     "name": "stdout",
     "output_type": "stream",
     "text": [
      "675/675 [==============================] - 9s 13ms/step\n"
     ]
    }
   ],
   "source": [
    "results=model.evaluate(x_test,y_test)"
   ]
  },
  {
   "cell_type": "code",
   "execution_count": 35,
   "metadata": {},
   "outputs": [
    {
     "data": {
      "text/plain": [
       "[0.715915310912662, 0.4681481420993805]"
      ]
     },
     "execution_count": 35,
     "metadata": {},
     "output_type": "execute_result"
    }
   ],
   "source": [
    "results"
   ]
  },
  {
   "cell_type": "code",
   "execution_count": 36,
   "metadata": {},
   "outputs": [],
   "source": [
    "sample_1=[]\n",
    "for root, dirs, files in os.walk('sample_frame1'):\n",
    "    for file in files:\n",
    "        if '.jpg' in file:\n",
    "            sample_1.append(os.path.join(root, file))\n",
    "sample_1_test = np.array([np.array(Image.open(im_dir).resize((128,128))) for im_dir in sample_1])"
   ]
  },
  {
   "cell_type": "code",
   "execution_count": 37,
   "metadata": {},
   "outputs": [
    {
     "data": {
      "text/plain": [
       "<Figure size 432x288 with 0 Axes>"
      ]
     },
     "metadata": {},
     "output_type": "display_data"
    }
   ],
   "source": [
    "# for i in range(5):\n",
    "import matplotlib.pyplot as plt\n",
    "import jsonlines\n",
    "prob = model.predict(sample_1_test)\n",
    "pred = [int(p>0.5) for p in prob]\n",
    "time = np.arange(15200,16000,5)/10\n",
    "js = \"\"\n",
    "for i, p in enumerate(prob):\n",
    "    js += \"({},{}) \".format(time[i], p)\n",
    "with jsonlines.open(\"sample_1_test.jsonl\",mode='w') as writer:\n",
    "    writer.write(js)\n",
    "plt.plot(time, pred)\n",
    "plt.xlabel('time (s)')\n",
    "plt.ylabel('prediction')\n",
    "plt.savefig(\"sample_1_test.jpg\")\n",
    "plt.clf()"
   ]
  },
  {
   "cell_type": "code",
   "execution_count": 38,
   "metadata": {},
   "outputs": [],
   "source": [
    "frame_range=[[15200,16000],[17000,18000],[12000,13000],[11000,12000],[11000,12000]]"
   ]
  },
  {
   "cell_type": "code",
   "execution_count": 39,
   "metadata": {},
   "outputs": [
    {
     "name": "stdout",
     "output_type": "stream",
     "text": [
      "160\n",
      "200\n",
      "200\n",
      "200\n",
      "200\n"
     ]
    },
    {
     "data": {
      "text/plain": [
       "<Figure size 432x288 with 0 Axes>"
      ]
     },
     "metadata": {},
     "output_type": "display_data"
    }
   ],
   "source": [
    "import matplotlib.pyplot as plt\n",
    "import jsonlines\n",
    "for num in range(1,6):\n",
    "    sample=[]\n",
    "    time = np.arange(frame_range[num-1][0],frame_range[num-1][1],5)/10\n",
    "    for root, dirs, files in os.walk(\"sample_frame{}\".format(num)):\n",
    "        for file in files:\n",
    "            if '.jpg' in file:\n",
    "                sample.append(os.path.join(root, file))\n",
    "    print(len(sample))\n",
    "    sample_test = np.array([np.array(Image.open(im_dir).resize((128,128))) for im_dir in sample])\n",
    "    prob = model.predict(sample_test)\n",
    "    pred = [int(p>0.5) for p in prob]\n",
    "    js = \"\"\n",
    "    for i, p in enumerate(prob):\n",
    "        js += \"({},{}) \".format(time[i], p)\n",
    "    with jsonlines.open(\"sample_{}_test.jsonl\".format(i),mode='w') as writer:\n",
    "        writer.write(js)\n",
    "    plt.plot(time, pred)\n",
    "    plt.xlabel('time (s)')\n",
    "    plt.ylabel('prediction')\n",
    "    plt.savefig(\"sample_{}_test.jpg\".format(num))\n",
    "    plt.clf()"
   ]
  },
  {
   "cell_type": "code",
   "execution_count": 31,
   "metadata": {},
   "outputs": [
    {
     "data": {
      "text/plain": [
       "200"
      ]
     },
     "execution_count": 31,
     "metadata": {},
     "output_type": "execute_result"
    }
   ],
   "source": [
    "len(prob)"
   ]
  },
  {
   "cell_type": "code",
   "execution_count": null,
   "metadata": {},
   "outputs": [],
   "source": []
  },
  {
   "cell_type": "code",
   "execution_count": null,
   "metadata": {},
   "outputs": [],
   "source": []
  }
 ],
 "metadata": {
  "kernelspec": {
   "display_name": "Python 3",
   "language": "python",
   "name": "python3"
  },
  "language_info": {
   "codemirror_mode": {
    "name": "ipython",
    "version": 3
   },
   "file_extension": ".py",
   "mimetype": "text/x-python",
   "name": "python",
   "nbconvert_exporter": "python",
   "pygments_lexer": "ipython3",
   "version": "3.7.3"
  }
 },
 "nbformat": 4,
 "nbformat_minor": 2
}
