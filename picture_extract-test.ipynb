{
 "cells": [
  {
   "cell_type": "code",
   "execution_count": 12,
   "metadata": {},
   "outputs": [
    {
     "data": {
      "text/plain": [
       "'1j20qq1JyX4'"
      ]
     },
     "execution_count": 12,
     "metadata": {},
     "output_type": "execute_result"
    }
   ],
   "source": [
    "import csv\n",
    "import numpy\n",
    "\n",
    "\n",
    "with open('/Users/jj9754/Desktop/TAMU20SPRING/CSCE636/ava_val_v2.2.csv', newline='') as f:\n",
    "    reader = csv.reader(f)\n",
    "    data = list(reader)\n",
    "\n",
    "data[1][0]\n"
   ]
  },
  {
   "cell_type": "code",
   "execution_count": 13,
   "metadata": {},
   "outputs": [],
   "source": [
    "label_val=[x[6] for x in data]\n",
    "#print(label_train)\n",
    "y=-1\n",
    "video_list=[]\n",
    "for x in label_val:\n",
    "    #print(x[6])\n",
    "    y=y+1\n",
    "    if (x=='63'):\n",
    "        #print(0)\n",
    "        video_list.append(data[y][0])\n",
    "#print(video_list) \n",
    "    # download the video\n"
   ]
  },
  {
   "cell_type": "code",
   "execution_count": 14,
   "metadata": {},
   "outputs": [
    {
     "name": "stdout",
     "output_type": "stream",
     "text": [
      "['rXFlJbXyZyc', '9F2voT6QWvQ', 'jE0S8gYWftE', 'yn9WN9lsHRE', 'WSPvfxtqisg', 'fpprSy6AzKk', 'ZosVdkY76FU', 'O_NYCUhZ9zw', 'KVq6If6ozMY', 'b-YoBU0XT90', 'NO2esmws190', '_eBah6c5kyA', 'ayAMdYfJJLk', 'sNQJfYvhcPk', 'bePts02nIY8', 'IzvOYVMltkI', 'KHHgQ_Pe4cI', '9Y_l9NsnYE0', 'Ov0za6Xb1LM', 'Lg1jOu8cUBM', 'covMYDBa5dk', 'SCh-ZImnyyk']\n"
     ]
    },
    {
     "data": {
      "text/plain": [
       "22"
      ]
     },
     "execution_count": 14,
     "metadata": {},
     "output_type": "execute_result"
    }
   ],
   "source": [
    "video_list=list(set(video_list))\n",
    "print(video_list)\n",
    "len(video_list)\n"
   ]
  },
  {
   "cell_type": "code",
   "execution_count": 15,
   "metadata": {},
   "outputs": [
    {
     "name": "stdout",
     "output_type": "stream",
     "text": [
      "['sNQJfYvhcPk', 'bePts02nIY8', 'IzvOYVMltkI', 'KHHgQ_Pe4cI', '9Y_l9NsnYE0', 'Ov0za6Xb1LM', 'Lg1jOu8cUBM', 'covMYDBa5dk', 'SCh-ZImnyyk']\n"
     ]
    }
   ],
   "source": [
    "print(video_list[13:])"
   ]
  },
  {
   "cell_type": "code",
   "execution_count": 20,
   "metadata": {},
   "outputs": [
    {
     "name": "stdout",
     "output_type": "stream",
     "text": [
      "[902, 903, 904, 905, 1528, 1531, 1532, 1533, 1534]\n",
      "[938, 938, 939, 940, 940, 941, 941, 942, 943, 943, 944, 978, 1726, 1727, 1728, 1729, 1730, 1731, 1732, 1735, 1736, 1737, 1738, 1739, 1740, 1741, 1742]\n",
      "[1211, 1212, 1258, 1259, 1259, 1260, 1260, 1261, 1261, 1262, 1262, 1263, 1263, 1264, 1264, 1265, 1266, 1266, 1267, 1268, 1279, 1280, 1282, 1283]\n",
      "[1171, 1184, 1194, 1197, 1198, 1199, 1200, 1201, 1202, 1203, 1204, 1205, 1206, 1207, 1208, 1209, 1210, 1211, 1212, 1213, 1214, 1215, 1237, 1238, 1239, 1242, 1243, 1244, 1245, 1246]\n",
      "[1170, 1171, 1174, 1175, 1176, 1177, 1178, 1179, 1180, 1181, 1182]\n"
     ]
    }
   ],
   "source": [
    "dic=dict.fromkeys(video_list)\n",
    "for x in data:\n",
    "    if x[6]=='63':\n",
    "        if dic[x[0]]:\n",
    "            dic[x[0]].append(int(x[1]))\n",
    "        else:\n",
    "            dic[x[0]]=[int(x[1])]\n",
    "print(dic.get('rXFlJbXyZyc'))\n",
    "print(dic.get('9F2voT6QWvQ'))\n",
    "print(dic.get('jE0S8gYWftE'))\n",
    "print(dic.get('yn9WN9lsHRE'))\n",
    "print(dic.get('WSPvfxtqisg'))"
   ]
  },
  {
   "cell_type": "code",
   "execution_count": 17,
   "metadata": {},
   "outputs": [
    {
     "name": "stdout",
     "output_type": "stream",
     "text": [
      "[1131, 1132, 1541, 1543, 1544, 1545, 1546, 1547, 1548]\n"
     ]
    }
   ],
   "source": [
    "import numpy as np\n",
    "dic_no=dict.fromkeys(video_list)\n",
    "for x in data:\n",
    "    if x[0] in dic_no:\n",
    "        if x[1] not in dic.get(x[0]):\n",
    "            ran=numpy.random.choice(numpy.arange(0, 2), p=[0.005, 0.995])\n",
    "            if ran==0:\n",
    "                if dic_no[x[0]]:\n",
    "                    dic_no[x[0]].append(int(x[1]))\n",
    "                else:\n",
    "                    dic_no[x[0]]=[int(x[1])]\n",
    "print(dic.get('Ov0za6Xb1LM'))            "
   ]
  },
  {
   "cell_type": "code",
   "execution_count": 10,
   "metadata": {},
   "outputs": [],
   "source": [
    "if x[0] in dic_no:\n",
    "        if x[1] not in dic.get(x[0]):\n",
    "            if dic[x[0]]:\n",
    "                dic[x[0]].append(int(x[1]))\n",
    "            else:\n",
    "                dic[x[0]]=[int(x[1])]\n",
    "            "
   ]
  },
  {
   "cell_type": "code",
   "execution_count": 15,
   "metadata": {},
   "outputs": [],
   "source": [
    "import os\n",
    "folder1= 'test_writing'  \n",
    "os.mkdir(folder1)"
   ]
  },
  {
   "cell_type": "code",
   "execution_count": 16,
   "metadata": {},
   "outputs": [],
   "source": [
    "folder2='test_nowriting'\n",
    "os.mkdir(folder2)"
   ]
  },
  {
   "cell_type": "code",
   "execution_count": 25,
   "metadata": {},
   "outputs": [
    {
     "name": "stdout",
     "output_type": "stream",
     "text": [
      "True\n",
      "True\n",
      "True\n",
      "True\n",
      "True\n",
      "True\n",
      "True\n",
      "True\n",
      "nowriting True\n",
      "nowriting True\n",
      "nowriting True\n",
      "nowriting True\n",
      "nowriting True\n",
      "nowriting True\n",
      "nowriting True\n",
      "nowriting True\n",
      "nowriting True\n",
      "fpprSy6AzKk 14\n",
      "True\n",
      "True\n",
      "True\n",
      "True\n",
      "True\n",
      "True\n",
      "True\n",
      "True\n",
      "True\n",
      "True\n",
      "True\n",
      "True\n",
      "True\n",
      "True\n",
      "nowriting True\n",
      "nowriting True\n",
      "nowriting True\n",
      "nowriting True\n",
      "nowriting True\n",
      "nowriting True\n",
      "nowriting True\n",
      "nowriting True\n",
      "nowriting True\n",
      "nowriting True\n",
      "nowriting True\n",
      "nowriting True\n",
      "nowriting True\n",
      "KHHgQ_Pe4cI 15\n",
      "True\n",
      "True\n",
      "True\n",
      "True\n",
      "True\n",
      "True\n",
      "nowriting True\n",
      "nowriting True\n",
      "nowriting True\n",
      "nowriting True\n",
      "nowriting True\n",
      "nowriting True\n",
      "nowriting True\n",
      "nowriting True\n",
      "nowriting True\n",
      "nowriting True\n",
      "nowriting True\n",
      "nowriting True\n",
      "nowriting True\n",
      "nowriting True\n",
      "nowriting True\n",
      "nowriting True\n",
      "nowriting True\n",
      "nowriting True\n",
      "nowriting True\n",
      "nowriting True\n",
      "nowriting True\n",
      "nowriting True\n",
      "nowriting True\n",
      "nowriting True\n",
      "nowriting True\n",
      "bePts02nIY8 16\n",
      "True\n",
      "True\n",
      "True\n",
      "True\n",
      "True\n",
      "True\n",
      "True\n",
      "True\n",
      "True\n",
      "True\n",
      "True\n",
      "True\n",
      "True\n",
      "True\n",
      "True\n",
      "True\n",
      "True\n",
      "True\n",
      "True\n",
      "True\n",
      "True\n",
      "True\n",
      "True\n",
      "True\n",
      "True\n",
      "True\n",
      "True\n",
      "True\n",
      "True\n",
      "True\n",
      "True\n",
      "True\n",
      "True\n",
      "True\n",
      "True\n",
      "True\n",
      "True\n",
      "True\n",
      "True\n",
      "True\n",
      "True\n",
      "True\n",
      "True\n",
      "True\n",
      "True\n",
      "True\n",
      "True\n",
      "True\n",
      "True\n",
      "True\n",
      "True\n",
      "True\n",
      "True\n",
      "True\n",
      "True\n",
      "True\n",
      "True\n",
      "True\n",
      "True\n",
      "True\n",
      "True\n",
      "True\n",
      "True\n",
      "nowriting True\n",
      "nowriting True\n",
      "nowriting True\n",
      "nowriting True\n",
      "nowriting True\n",
      "nowriting True\n",
      "nowriting True\n",
      "nowriting True\n",
      "nowriting True\n",
      "nowriting True\n",
      "nowriting True\n",
      "nowriting True\n",
      "nowriting True\n",
      "nowriting True\n",
      "nowriting True\n",
      "nowriting True\n",
      "nowriting True\n",
      "nowriting True\n",
      "nowriting True\n",
      "nowriting True\n",
      "nowriting True\n",
      "nowriting True\n",
      "nowriting True\n",
      "nowriting True\n",
      "nowriting True\n",
      "nowriting True\n",
      "nowriting True\n",
      "nowriting True\n",
      "nowriting True\n",
      "nowriting True\n",
      "nowriting True\n",
      "nowriting True\n",
      "nowriting True\n",
      "nowriting True\n",
      "ZosVdkY76FU 17\n",
      "True\n",
      "nowriting True\n",
      "nowriting True\n",
      "nowriting True\n",
      "nowriting True\n",
      "nowriting True\n",
      "b-YoBU0XT90 18\n",
      "True\n",
      "True\n",
      "True\n",
      "True\n",
      "True\n",
      "True\n",
      "True\n",
      "True\n",
      "True\n",
      "True\n",
      "True\n",
      "True\n",
      "True\n",
      "True\n",
      "True\n",
      "True\n",
      "True\n",
      "True\n",
      "True\n",
      "True\n",
      "True\n",
      "True\n",
      "True\n",
      "True\n",
      "nowriting True\n",
      "nowriting True\n",
      "nowriting True\n",
      "nowriting True\n",
      "nowriting True\n",
      "nowriting True\n",
      "nowriting True\n",
      "nowriting True\n",
      "nowriting True\n",
      "nowriting True\n",
      "nowriting True\n",
      "nowriting True\n",
      "nowriting True\n",
      "nowriting True\n",
      "nowriting True\n",
      "nowriting True\n",
      "nowriting True\n",
      "nowriting True\n",
      "nowriting True\n",
      "nowriting True\n",
      "nowriting True\n",
      "jE0S8gYWftE 19\n",
      "True\n",
      "True\n",
      "True\n",
      "nowriting True\n",
      "nowriting True\n",
      "nowriting True\n",
      "nowriting True\n",
      "nowriting True\n",
      "nowriting True\n",
      "nowriting True\n",
      "nowriting True\n",
      "nowriting True\n",
      "nowriting True\n",
      "nowriting True\n",
      "nowriting True\n",
      "nowriting True\n",
      "nowriting True\n",
      "nowriting True\n",
      "nowriting True\n",
      "nowriting True\n",
      "nowriting True\n",
      "nowriting True\n",
      "nowriting True\n",
      "O_NYCUhZ9zw 20\n",
      "True\n",
      "True\n",
      "True\n",
      "nowriting True\n",
      "nowriting True\n",
      "nowriting True\n",
      "nowriting True\n",
      "nowriting True\n",
      "nowriting True\n",
      "nowriting True\n",
      "nowriting True\n",
      "nowriting True\n",
      "nowriting True\n",
      "nowriting True\n",
      "nowriting True\n",
      "nowriting True\n",
      "nowriting True\n",
      "_eBah6c5kyA 21\n",
      "True\n",
      "nowriting True\n",
      "nowriting True\n",
      "nowriting True\n",
      "nowriting True\n",
      "nowriting True\n",
      "nowriting True\n",
      "nowriting True\n",
      "nowriting True\n",
      "nowriting True\n",
      "nowriting True\n",
      "nowriting True\n",
      "nowriting True\n",
      "nowriting True\n",
      "nowriting True\n",
      "Lg1jOu8cUBM 22\n"
     ]
    }
   ],
   "source": [
    "import requests\n",
    "import cv2\n",
    "i=13\n",
    "count=152\n",
    "count_no=247\n",
    "for name in video_list[13:]:\n",
    "    j=str(i)\n",
    "    request1 = requests.get(\"https://s3.amazonaws.com/ava-dataset/trainval/\"+name+'.mp4')\n",
    "    request2 = requests.get(\"https://s3.amazonaws.com/ava-dataset/trainval/\"+name+'.mkv')\n",
    "    request3 = requests.get(\"https://s3.amazonaws.com/ava-dataset/trainval/\"+name+'.webm')\n",
    "    if request1.status_code == 200:\n",
    "        open('train'+j+'.mp4', 'wb').write(request1.content)\n",
    "        video_name='train'+j+'.mp4'\n",
    "    elif request2.status_code == 200:\n",
    "        open('train'+j+'.mkv', 'wb').write(request2.content)\n",
    "        video_name='train'+j+'.mkv'\n",
    "        #print('Web site does not exist') \n",
    "    else:\n",
    "        open('train'+j+'.webm', 'wb').write(request3.content)\n",
    "        video_name='train'+j+'.webm'\n",
    "    \n",
    "    for x in dic.get(name):\n",
    "        cap = cv2.VideoCapture(video_name) #video\\_name is the video being called\n",
    "        cap.set(0,x*1000); # Where frame\\_no is the frame you want\n",
    "        ret, frame = cap.read() # Read the frame\n",
    "        print(ret)\n",
    "        cv2.imwrite(os.path.join(folder1,\"frame{:d}.jpg\".format(count)), frame)\n",
    "        count=count+1\n",
    "    for time in dic_no.get(name):\n",
    "        cap_no = cv2.VideoCapture(video_name) #video\\_name is the video being called\n",
    "        cap_no.set(0,time*1000); # Where frame\\_no is the frame you want\n",
    "        ret, frame = cap.read() # Read the frame\n",
    "        print(\"nowriting\",ret)\n",
    "        cv2.imwrite(os.path.join(folder2,\"frame{:d}.jpg\".format(count_no)), frame)\n",
    "        count_no=count_no+1\n",
    "    if i>4:\n",
    "        os.remove(video_name)\n",
    "    i=i+1\n",
    "    print(name,i)"
   ]
  },
  {
   "cell_type": "code",
   "execution_count": 38,
   "metadata": {},
   "outputs": [
    {
     "data": {
      "text/plain": [
       "['eA55_shhKko',\n",
       " 'lWXhqIAvarw',\n",
       " 'Ksd1JQFHYWA',\n",
       " 't0V4drbYDnc',\n",
       " 'zR725veL-DI',\n",
       " '4Y5qi1gD2Sw',\n",
       " '5LrOQEt_XVM',\n",
       " '8VZEwOCQ8bc',\n",
       " 'U_WzY2k8IBM',\n",
       " 'SHBMiL5f_3Q',\n",
       " 'XV_FF3WC7kA',\n",
       " '7g37N3eoQ9s',\n",
       " 'HV0H6oc4Kvs',\n",
       " 'UsLnxI_zGpY',\n",
       " 'UOfuzrwkclM',\n",
       " 'qrkff49p4E4',\n",
       " 'gjasEUDkbuc',\n",
       " '_-Z6wFjXtGQ',\n",
       " 'tjqCzVjojCo',\n",
       " '9mLYmkonWZQ',\n",
       " '7YpF6DntOYw',\n",
       " 'rJKeqfTlAeY',\n",
       " 'bAVXp1oGjHA',\n",
       " 'phVLLTMzmKk',\n",
       " 'BY3sZmvUp-0',\n",
       " 'z3kgrh0L_80',\n",
       " 'KWoSGtglCms',\n",
       " 'xJmRNZVDDCY',\n",
       " 'xO4ABy2iOQA',\n",
       " '053oq2xB3oU',\n",
       " 'T-Fc9ctuNVI',\n",
       " 'lT1zdTL-3SM',\n",
       " 'pGP_oIdKmRY',\n",
       " '2E_e8JlvTlg',\n",
       " '4ZpjKfu6Cl8',\n",
       " 'K_SpqDJnlps',\n",
       " 'tEoJW9ycmSY',\n",
       " '1ReZIMmD_8E',\n",
       " '2fwni_Kjf2M',\n",
       " 'r2llOyS-BmE',\n",
       " 'oq_bufAhyl8',\n",
       " 'v0L-WkMO3s4',\n",
       " 'uq_HBsvP548',\n",
       " 'b50s4AlOOKY',\n",
       " '2FIHxnZKg6A',\n",
       " 'QaIMUi-elFo',\n",
       " 'TCmNvNLRWrc',\n",
       " '9tyiDEYiWiA',\n",
       " 'wfEOx36N4jA',\n",
       " 'P60OxWahxBQ',\n",
       " 'N0Dt9i9IUNg',\n",
       " 'QotkBTEePI8',\n",
       " 'wogRuPNBUi8',\n",
       " 'phrYEKv0rmw',\n",
       " '9IF8uTRrWAM',\n",
       " 'HKjR70GCRPE',\n",
       " '-XpUuIgyUHE',\n",
       " 'IuPC-z-M9u8',\n",
       " 'jI0HIlSsa3s',\n",
       " 'cWYJHb25EVs',\n",
       " 'C3qk4yAMANk',\n",
       " 'mfsbYdLx9wE',\n",
       " 'AYebXQ8eUkM',\n",
       " 'cc4y-yYm5Ao',\n",
       " 'PNZQ2UJfyQE',\n",
       " 'Vmef_8MY46w',\n",
       " '_Ca3gOdOHxU',\n",
       " 'LrDT25hmApw',\n",
       " 'vfjywN5CN0Y',\n",
       " 'BCiuXAuCKAU',\n",
       " 'OfMdakd4bHI']"
      ]
     },
     "execution_count": 38,
     "metadata": {},
     "output_type": "execute_result"
    }
   ],
   "source": [
    "video_list[24:]"
   ]
  },
  {
   "cell_type": "code",
   "execution_count": 21,
   "metadata": {},
   "outputs": [
    {
     "name": "stdout",
     "output_type": "stream",
     "text": [
      "151\n",
      "246\n"
     ]
    }
   ],
   "source": [
    "print(count)\n",
    "print(count_no)"
   ]
  },
  {
   "cell_type": "code",
   "execution_count": 26,
   "metadata": {},
   "outputs": [],
   "source": [
    "import requests\n",
    "import cv2\n",
    "import os\n",
    "i=0\n",
    "request1 = requests.get(\"https://s3.amazonaws.com/ava-dataset/trainval/\"+'XF87VL5T0aA'+'.mkv')\n",
    "open('train'+str(i)+'.mkv','wb').write(request1.content)\n",
    "video_name='train'+str(i)+'.mkv'\n"
   ]
  },
  {
   "cell_type": "code",
   "execution_count": 36,
   "metadata": {},
   "outputs": [
    {
     "data": {
      "text/plain": [
       "'eA55_shhKko'"
      ]
     },
     "execution_count": 36,
     "metadata": {},
     "output_type": "execute_result"
    }
   ],
   "source": [
    "name"
   ]
  },
  {
   "cell_type": "code",
   "execution_count": 29,
   "metadata": {},
   "outputs": [
    {
     "name": "stdout",
     "output_type": "stream",
     "text": [
      "True\n",
      "True\n"
     ]
    }
   ],
   "source": [
    "count=0\n",
    "for x in dic.get('XF87VL5T0aA'):\n",
    "    cap = cv2.VideoCapture(video_name) #video\\_name is the video being called\n",
    "    cap.set(0,x*1000); # Where frame\\_no is the frame you want\n",
    "    ret, frame = cap.read() # Read the frame\n",
    "    print(ret)\n",
    "    cv2.imwrite(os.path.join(folder,\"frame{:d}.jpg\".format(count)), frame)\n",
    "    count=count+1"
   ]
  },
  {
   "cell_type": "code",
   "execution_count": 44,
   "metadata": {},
   "outputs": [
    {
     "name": "stdout",
     "output_type": "stream",
     "text": [
      "777\n"
     ]
    },
    {
     "name": "stderr",
     "output_type": "stream",
     "text": [
      "//anaconda3/lib/python3.7/site-packages/ipykernel_launcher.py:3: DeprecationWarning: Calling np.sum(generator) is deprecated, and in the future will give a different result. Use np.sum(np.fromiter(generator)) or the python sum builtin instead.\n",
      "  This is separate from the ipykernel package so we can avoid doing imports until\n"
     ]
    }
   ],
   "source": [
    "import numpy as np\n",
    "#len(dic.get('XF87VL5T0aA'))\n",
    "print(np.sum(len(dic.get(name)) for name in dic))"
   ]
  },
  {
   "cell_type": "code",
   "execution_count": 46,
   "metadata": {},
   "outputs": [
    {
     "name": "stdout",
     "output_type": "stream",
     "text": [
      "1879\n"
     ]
    },
    {
     "name": "stderr",
     "output_type": "stream",
     "text": [
      "//anaconda3/lib/python3.7/site-packages/ipykernel_launcher.py:1: DeprecationWarning: Calling np.sum(generator) is deprecated, and in the future will give a different result. Use np.sum(np.fromiter(generator)) or the python sum builtin instead.\n",
      "  \"\"\"Entry point for launching an IPython kernel.\n"
     ]
    }
   ],
   "source": [
    "print(np.sum(len(dic_no.get(name)) for name in dic_no))"
   ]
  },
  {
   "cell_type": "code",
   "execution_count": null,
   "metadata": {},
   "outputs": [],
   "source": [
    "video_list = []\n",
    "print(args.path_dir)\n",
    "if args.path_dir:\n",
    "    for root, dirs, files in os.walk(args.path_dir):\n",
    "        for file in files:\n",
    "            if '.mp4' in file:\n",
    "                video_list.append(os.path.join(root, file))"
   ]
  }
 ],
 "metadata": {
  "kernelspec": {
   "display_name": "Python 3",
   "language": "python",
   "name": "python3"
  },
  "language_info": {
   "codemirror_mode": {
    "name": "ipython",
    "version": 3
   },
   "file_extension": ".py",
   "mimetype": "text/x-python",
   "name": "python",
   "nbconvert_exporter": "python",
   "pygments_lexer": "ipython3",
   "version": "3.7.3"
  }
 },
 "nbformat": 4,
 "nbformat_minor": 2
}
